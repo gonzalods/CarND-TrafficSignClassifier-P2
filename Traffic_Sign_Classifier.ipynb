{
 "cells": [
  {
   "cell_type": "markdown",
   "metadata": {},
   "source": [
    "# Self-Driving Car Engineer Nanodegree\n",
    "\n",
    "## Deep Learning\n",
    "\n",
    "## Project: Build a Traffic Sign Recognition Classifier\n",
    "\n",
    "In this notebook, a template is provided for you to implement your functionality in stages, which is required to successfully complete this project. If additional code is required that cannot be included in the notebook, be sure that the Python code is successfully imported and included in your submission if necessary. \n",
    "\n",
    "> **Note**: Once you have completed all of the code implementations, you need to finalize your work by exporting the iPython Notebook as an HTML document. Before exporting the notebook to html, all of the code cells need to have been run so that reviewers can see the final implementation and output. You can then export the notebook by using the menu above and navigating to  \\n\",\n",
    "    \"**File -> Download as -> HTML (.html)**. Include the finished document along with this notebook as your submission. \n",
    "\n",
    "In addition to implementing code, there is a writeup to complete. The writeup should be completed in a separate file, which can be either a markdown file or a pdf document. There is a [write up template](https://github.com/udacity/CarND-Traffic-Sign-Classifier-Project/blob/master/writeup_template.md) that can be used to guide the writing process. Completing the code template and writeup template will cover all of the [rubric points](https://review.udacity.com/#!/rubrics/481/view) for this project.\n",
    "\n",
    "The [rubric](https://review.udacity.com/#!/rubrics/481/view) contains \"Stand Out Suggestions\" for enhancing the project beyond the minimum requirements. The stand out suggestions are optional. If you decide to pursue the \"stand out suggestions\", you can include the code in this Ipython notebook and also discuss the results in the writeup file.\n",
    "\n",
    "\n",
    ">**Note:** Code and Markdown cells can be executed using the **Shift + Enter** keyboard shortcut. In addition, Markdown cells can be edited by typically double-clicking the cell to enter edit mode."
   ]
  },
  {
   "cell_type": "markdown",
   "metadata": {},
   "source": [
    "---\n",
    "## Step 0: Load The Data"
   ]
  },
  {
   "cell_type": "code",
   "execution_count": null,
   "metadata": {},
   "outputs": [],
   "source": [
    "%%javascript\n",
    "IPython.OutputArea.prototype._should_scroll = function(lines) {\n",
    "    return false;\n",
    "}"
   ]
  },
  {
   "cell_type": "code",
   "execution_count": null,
   "metadata": {
    "collapsed": true
   },
   "outputs": [],
   "source": [
    "import pickle\n",
    "import numpy as np\n",
    "import pandas as pd\n",
    "import matplotlib.pyplot as plt\n",
    "import tensorflow as tf\n",
    "import cv2\n",
    "\n",
    "%matplotlib inline\n",
    "\n",
    "model_name = './models/Conv-3-1-Aug-mean-Drop-1e-4'\n",
    "# Load signnames.csv that contains id -> name mappings for each id.\n",
    "all_labels = pd.read_csv('./signnames.csv').values;\n",
    "num_labels = len(all_labels)"
   ]
  },
  {
   "cell_type": "code",
   "execution_count": null,
   "metadata": {
    "collapsed": true
   },
   "outputs": [],
   "source": [
    "# Load pickled data\n",
    "\n",
    "# TODO: Fill this in based on where you saved the training and testing data\n",
    "\n",
    "training_file = 'data/train.p'\n",
    "validation_file= 'data/valid.p'\n",
    "testing_file = 'data/test.p'\n",
    "\n",
    "with open(training_file, mode='rb') as f:\n",
    "    train = pickle.load(f)\n",
    "with open(validation_file, mode='rb') as f:\n",
    "    valid = pickle.load(f)\n",
    "with open(testing_file, mode='rb') as f:\n",
    "    test = pickle.load(f)\n",
    "    \n",
    "X_train, y_train = train['features'], train['labels']\n",
    "X_valid, y_valid = valid['features'], valid['labels']\n",
    "X_test, y_test = test['features'], test['labels']"
   ]
  },
  {
   "cell_type": "markdown",
   "metadata": {},
   "source": [
    "---\n",
    "\n",
    "## Step 1: Dataset Summary & Exploration\n",
    "\n",
    "The pickled data is a dictionary with 4 key/value pairs:\n",
    "\n",
    "- `'features'` is a 4D array containing raw pixel data of the traffic sign images, (num examples, width, height, channels).\n",
    "- `'labels'` is a 1D array containing the label/class id of the traffic sign. The file `signnames.csv` contains id -> name mappings for each id.\n",
    "- `'sizes'` is a list containing tuples, (width, height) representing the original width and height the image.\n",
    "- `'coords'` is a list containing tuples, (x1, y1, x2, y2) representing coordinates of a bounding box around the sign in the image. **THESE COORDINATES ASSUME THE ORIGINAL IMAGE. THE PICKLED DATA CONTAINS RESIZED VERSIONS (32 by 32) OF THESE IMAGES**\n",
    "\n",
    "Complete the basic data summary below. Use python, numpy and/or pandas methods to calculate the data summary rather than hard coding the results. For example, the [pandas shape method](http://pandas.pydata.org/pandas-docs/stable/generated/pandas.DataFrame.shape.html) might be useful for calculating some of the summary results. "
   ]
  },
  {
   "cell_type": "markdown",
   "metadata": {},
   "source": [
    "### Provide a Basic Summary of the Data Set Using Python, Numpy and/or Pandas"
   ]
  },
  {
   "cell_type": "code",
   "execution_count": null,
   "metadata": {},
   "outputs": [],
   "source": [
    "### Replace each question mark with the appropriate value. \n",
    "### Use python, pandas or numpy methods rather than hard coding the results\n",
    "\n",
    "# TODO: Number of training examples\n",
    "n_train = len(y_train)\n",
    "\n",
    "# TODO: Number of validation examples\n",
    "n_validation = len(y_valid)\n",
    "\n",
    "# TODO: Number of testing examples.\n",
    "n_test = len(y_test)\n",
    "\n",
    "# TODO: What's the shape of an traffic sign image?\n",
    "image_shape = np.array(X_train[0]).shape\n",
    "\n",
    "# TODO: How many unique classes/labels there are in the dataset.\n",
    "n_classes = np.unique(y_train).size\n",
    "\n",
    "print(\"Number of training examples =\", n_train)\n",
    "print(\"Number of validation examples =\", n_validation)\n",
    "print(\"Number of testing examples =\", n_test)\n",
    "print(\"Image data shape =\", image_shape)\n",
    "print(\"Number of classes =\", n_classes)"
   ]
  },
  {
   "cell_type": "markdown",
   "metadata": {},
   "source": [
    "### Include an exploratory visualization of the dataset"
   ]
  },
  {
   "cell_type": "markdown",
   "metadata": {},
   "source": [
    "Visualize the German Traffic Signs Dataset using the pickled file(s). This is open ended, suggestions include: plotting traffic sign images, plotting the count of each sign, etc. \n",
    "\n",
    "The [Matplotlib](http://matplotlib.org/) [examples](http://matplotlib.org/examples/index.html) and [gallery](http://matplotlib.org/gallery.html) pages are a great resource for doing visualizations in Python.\n",
    "\n",
    "**NOTE:** It's recommended you start with something simple first. If you wish to do more, come back to it after you've completed the rest of the sections. It can be interesting to look at the distribution of classes in the training, validation and test set. Is the distribution the same? Are there more examples of some classes than others?"
   ]
  },
  {
   "cell_type": "code",
   "execution_count": null,
   "metadata": {
    "collapsed": true
   },
   "outputs": [],
   "source": [
    "### Data exploration visualization code goes here.\n",
    "### Feel free to use as many code cells as needed.\n",
    "\n",
    "# Visualizations will be shown in the notebook.\n",
    "\n",
    "signIndxs = []\n",
    "for indx in range(n_classes):\n",
    "    signIndx = np.random.choice([i for i in range(len(y_train)) if y_train[i] == indx],5)\n",
    "    signIndxs.append(signIndx)"
   ]
  },
  {
   "cell_type": "code",
   "execution_count": null,
   "metadata": {
    "scrolled": true
   },
   "outputs": [],
   "source": [
    "print('Traffic Signs Samples')\n",
    "for indx in range(n_classes):\n",
    "    class_imgs = signIndxs[indx]\n",
    "    class_label = all_labels[indx]\n",
    "    print('{}. {}.'.format(class_label[0], class_label[1]))\n",
    "    fig = plt.figure(indx, figsize=(5,1))\n",
    "    for img in range(len(class_imgs)):\n",
    "        ax0 = fig.add_subplot(1, 5, img+1)\n",
    "        ax0.imshow(X_train[class_imgs[img]])\n",
    "        ax0.axis('off')\n",
    "    \n",
    "    plt.show()"
   ]
  },
  {
   "cell_type": "code",
   "execution_count": null,
   "metadata": {},
   "outputs": [],
   "source": [
    "plt.hist(y_train, bins=n_classes)\n",
    "plt.title('Train Distribution')\n",
    "plt.show()"
   ]
  },
  {
   "cell_type": "code",
   "execution_count": null,
   "metadata": {},
   "outputs": [],
   "source": [
    "plt.hist(y_valid, bins=n_classes)\n",
    "plt.title('Validation Distribution')\n",
    "plt.show()"
   ]
  },
  {
   "cell_type": "code",
   "execution_count": null,
   "metadata": {},
   "outputs": [],
   "source": [
    "plt.hist(y_test, bins=n_classes)\n",
    "plt.title('Test Distribution')\n",
    "plt.show()"
   ]
  },
  {
   "cell_type": "markdown",
   "metadata": {},
   "source": [
    "----\n",
    "\n",
    "## Step 2: Design and Test a Model Architecture\n",
    "\n",
    "Design and implement a deep learning model that learns to recognize traffic signs. Train and test your model on the [German Traffic Sign Dataset](http://benchmark.ini.rub.de/?section=gtsrb&subsection=dataset).\n",
    "\n",
    "The LeNet-5 implementation shown in the [classroom](https://classroom.udacity.com/nanodegrees/nd013/parts/fbf77062-5703-404e-b60c-95b78b2f3f9e/modules/6df7ae49-c61c-4bb2-a23e-6527e69209ec/lessons/601ae704-1035-4287-8b11-e2c2716217ad/concepts/d4aca031-508f-4e0b-b493-e7b706120f81) at the end of the CNN lesson is a solid starting point. You'll have to change the number of classes and possibly the preprocessing, but aside from that it's plug and play! \n",
    "\n",
    "With the LeNet-5 solution from the lecture, you should expect a validation set accuracy of about 0.89. To meet specifications, the validation set accuracy will need to be at least 0.93. It is possible to get an even higher accuracy, but 0.93 is the minimum for a successful project submission. \n",
    "\n",
    "There are various aspects to consider when thinking about this problem:\n",
    "\n",
    "- Neural network architecture (is the network over or underfitting?)\n",
    "- Play around preprocessing techniques (normalization, rgb to grayscale, etc)\n",
    "- Number of examples per label (some have more than others).\n",
    "- Generate fake data.\n",
    "\n",
    "Here is an example of a [published baseline model on this problem](http://yann.lecun.com/exdb/publis/pdf/sermanet-ijcnn-11.pdf). It's not required to be familiar with the approach used in the paper but, it's good practice to try to read papers like these."
   ]
  },
  {
   "cell_type": "markdown",
   "metadata": {},
   "source": [
    "### Pre-process the Data Set (normalization, grayscale, etc.)"
   ]
  },
  {
   "cell_type": "markdown",
   "metadata": {},
   "source": [
    "Minimally, the image data should be normalized so that the data has mean zero and equal variance. For image data, `(pixel - 128)/ 128` is a quick way to approximately normalize the data and can be used in this project. \n",
    "\n",
    "Other pre-processing steps are optional. You can try different techniques to see if it improves performance. \n",
    "\n",
    "Use the code cell (or multiple code cells, if necessary) to implement the first step of your project."
   ]
  },
  {
   "cell_type": "code",
   "execution_count": null,
   "metadata": {
    "collapsed": true
   },
   "outputs": [],
   "source": [
    "import cv2\n",
    "\n",
    "clahe = cv2.createCLAHE(clipLimit=2.0, tileGridSize=(4,4))\n",
    "def gray_clahe(x):\n",
    "    h, w, c = x.shape\n",
    "    x_gray = cv2.cvtColor(x, cv2.COLOR_RGB2GRAY)\n",
    "    x_clahe = clahe.apply(x_gray)\n",
    "    return x_clahe.reshape(h, w, 1)"
   ]
  },
  {
   "cell_type": "code",
   "execution_count": null,
   "metadata": {
    "collapsed": true
   },
   "outputs": [],
   "source": [
    "from scipy.ndimage.interpolation import shift\n",
    "\n",
    "def shift_img(x, shift_x):\n",
    "    return shift(x, shift_x)"
   ]
  },
  {
   "cell_type": "code",
   "execution_count": null,
   "metadata": {
    "collapsed": true
   },
   "outputs": [],
   "source": [
    "from scipy.ndimage.interpolation import rotate\n",
    "\n",
    "def rotate_img(x, angle_x):\n",
    "    return rotate(x, angle_x, reshape=False)"
   ]
  },
  {
   "cell_type": "code",
   "execution_count": null,
   "metadata": {
    "collapsed": true
   },
   "outputs": [],
   "source": [
    "from scipy.ndimage.interpolation import zoom\n",
    "\n",
    "def scale_img(x, zoom_img):\n",
    "    scaled = zoom(x, zoom_img)\n",
    "    if zoom_img < 1.0:\n",
    "        pad = (x.shape[0] - scaled.shape[0]) // 2\n",
    "        scaled = np.pad(scaled, ((pad,pad),(pad,pad), (0,0)), 'constant')\n",
    "    else:\n",
    "        crop = (scaled.shape[0] - x.shape[0]) // 2\n",
    "        scaled = scaled[crop:scaled.shape[0] - crop, crop:scaled.shape[0] - crop,:]\n",
    "    return scaled"
   ]
  },
  {
   "cell_type": "code",
   "execution_count": null,
   "metadata": {
    "collapsed": true
   },
   "outputs": [],
   "source": [
    "def augment(X, y):\n",
    "    X_news = []\n",
    "    y_news = []\n",
    "    imres = 32\n",
    "    count = 0\n",
    "    hist, _ = np.histogram(y, bins=range(np.unique(y).size + 1))\n",
    "    par = True\n",
    "    a1 = 1\n",
    "    for indx in range(len(X)):\n",
    "        x_origin, y_origin = X[indx], y[indx]\n",
    "        x_origin = gray_clahe(x_origin)\n",
    "        X_news.append(x_origin)\n",
    "        y_news.append(y_origin)\n",
    "        imgs_count = hist[y_origin]\n",
    "        \n",
    "        if imgs_count <= 240:\n",
    "            X_news.append(shift_img(x_origin, (2,2,0)))\n",
    "            y_news.append(y_origin)\n",
    "            X_news.append(shift_img(x_origin, (-2,2,0)))\n",
    "            y_news.append(y_origin)\n",
    "            X_news.append(shift_img(x_origin, (2,-2,0)))\n",
    "            y_news.append(y_origin)\n",
    "            X_news.append(shift_img(x_origin, (-2,-2,0)))\n",
    "            y_news.append(y_origin)\n",
    "            \n",
    "            X_news.append(rotate_img(x_origin, 10))\n",
    "            y_news.append(y_origin)\n",
    "            X_news.append(rotate_img(x_origin, 5))\n",
    "            y_news.append(y_origin)\n",
    "            X_news.append(rotate_img(x_origin, -10))\n",
    "            y_news.append(y_origin)\n",
    "            X_news.append(rotate_img(x_origin, -5))\n",
    "            y_news.append(y_origin)\n",
    "            \n",
    "            X_news.append(scale_img(x_origin, 0.8125))\n",
    "            y_news.append(y_origin)\n",
    "            X_news.append(scale_img(x_origin, 1.1875))\n",
    "            y_news.append(y_origin)\n",
    "            \n",
    "            X_news.append(x_origin -50)\n",
    "            y_news.append(y_origin)\n",
    "            \n",
    "            X_news.append(x_origin - 75)\n",
    "            y_news.append(y_origin)\n",
    "            \n",
    "\n",
    "        elif imgs_count > 240 and imgs_count <= 450:\n",
    "            X_news.append(shift_img(x_origin, (2,2,0)))\n",
    "            y_news.append(y_origin)\n",
    "            X_news.append(shift_img(x_origin, (-2,2,0)))\n",
    "            y_news.append(y_origin)\n",
    "            X_news.append(shift_img(x_origin, (2,-2,0)))\n",
    "            y_news.append(y_origin)\n",
    "            \n",
    "            X_news.append(rotate_img(x_origin, 10))\n",
    "            y_news.append(y_origin)\n",
    "            X_news.append(rotate_img(x_origin, 5))\n",
    "            y_news.append(y_origin)\n",
    "            \n",
    "            X_news.append(scale_img(x_origin, 0.8125))\n",
    "            y_news.append(y_origin)\n",
    "            \n",
    "            X_news.append(x_origin + (a1 * 25))\n",
    "            y_news.append(y_origin)\n",
    "            a1 *= -1 \n",
    "\n",
    "        elif imgs_count > 450 and imgs_count <= 800:\n",
    "            X_news.append(shift_img(x_origin, (-2,-2,0)))\n",
    "            y_news.append(y_origin)\n",
    "            \n",
    "            X_news.append(rotate_img(x_origin, -10))\n",
    "            y_news.append(y_origin)\n",
    "            \n",
    "            X_news.append(scale_img(x_origin, 1.1875))\n",
    "            y_news.append(y_origin)            \n",
    "\n",
    "        elif imgs_count > 800 and imgs_count <= 990:\n",
    "            X_news.append(shift_img(x_origin, (-2,-2,0)))\n",
    "            y_news.append(y_origin)\n",
    "            \n",
    "            X_news.append(rotate_img(x_origin, -5))\n",
    "            y_news.append(y_origin)\n",
    "        elif imgs_count > 990 and imgs_count <= 1320:\n",
    "            X_news.append(scale_img(x_origin, 0.8125))\n",
    "            y_news.append(y_origin)\n",
    "        else:\n",
    "            if par:\n",
    "                X_news.append(scale_img(x_origin, 1.1875))\n",
    "                y_news.append(y_origin)\n",
    "            par = not par\n",
    "\n",
    "\n",
    "        count +=1\n",
    "\n",
    "    return np.array(X_news).reshape(len(X_news), imres, imres, 1), np.array(y_news)"
   ]
  },
  {
   "cell_type": "code",
   "execution_count": null,
   "metadata": {},
   "outputs": [],
   "source": [
    "%%time\n",
    "### Preprocess the data here. It is required to normalize the data. Other preprocessing steps could include \n",
    "### converting to grayscale, etc.\n",
    "### Feel free to use as many code cells as needed.\n",
    "\n",
    "# train gray clahe augmented\n",
    "X_augmented, y_train_norm = augment(X_train, y_train)\n",
    "X_augmented = np.array(X_augmented).reshape(len(X_augmented), 32, 32, 1)\n",
    "\n",
    "\n",
    "# valid gray clahe\n",
    "X_valid_gray_clahe = [gray_clahe(x) for x in X_valid]\n",
    "X_valid_gray_clahe = np.array(X_valid_gray_clahe).reshape(len(X_valid_gray_clahe), 32, 32, 1)\n",
    "\n",
    "# Normalization mean-std\n",
    "X_train_norm = np.array(X_augmented, dtype=np.float32)\n",
    "X_valid_norm = np.array(X_valid_gray_clahe, dtype=np.float32)\n",
    "train_mean = np.mean(X_train_norm)\n",
    "train_std = np.std(X_train_norm, axis=0) "
   ]
  },
  {
   "cell_type": "code",
   "execution_count": null,
   "metadata": {},
   "outputs": [],
   "source": [
    "plt.hist(y_train_norm, bins=n_classes)\n",
    "plt.title('Augmented Train Distribution')\n",
    "plt.show()"
   ]
  },
  {
   "cell_type": "code",
   "execution_count": null,
   "metadata": {
    "collapsed": true
   },
   "outputs": [],
   "source": [
    "from sklearn.utils import shuffle\n",
    "X_train_norm, y_train_norm = shuffle(X_train_norm, y_train_norm)"
   ]
  },
  {
   "cell_type": "markdown",
   "metadata": {},
   "source": [
    "### Model Architecture"
   ]
  },
  {
   "cell_type": "code",
   "execution_count": null,
   "metadata": {
    "collapsed": true
   },
   "outputs": [],
   "source": [
    "### Define your architecture here.\n",
    "### Feel free to use as many code cells as needed.\n",
    "EPOCHS = 25\n",
    "BATCH_SIZE = 128"
   ]
  },
  {
   "cell_type": "code",
   "execution_count": null,
   "metadata": {
    "collapsed": true
   },
   "outputs": [],
   "source": [
    "def convLayer(x, filter_conv, strides_conv, keepprob, ksize_pool=None, strides_pool=None, padding_conv='SAME', mu=0, sigma=0.1):\n",
    "    \n",
    "    # Convolutional\n",
    "    conv_W = tf.Variable(tf.truncated_normal(shape=filter_conv, mean = mu, stddev = sigma))\n",
    "    conv_b = tf.Variable(tf.zeros(filter_conv[3]))\n",
    "    conv   = tf.nn.conv2d(x, conv_W, strides=strides_conv, padding=padding_conv, name=\"conv\") + conv_b\n",
    "\n",
    "    # Activation.\n",
    "    conv = tf.nn.relu(conv)\n",
    "\n",
    "    # Dropout\n",
    "    conv = tf.cond(with_drop,\n",
    "                  lambda: tf.nn.dropout(conv, keepprob),\n",
    "                  lambda: conv)\n",
    "    \n",
    "    # Pooling\n",
    "    if ksize_pool is not None:\n",
    "        conv = tf.nn.max_pool(conv, ksize=ksize_pool, strides=strides_pool, padding='VALID')\n",
    "        \n",
    "    return conv"
   ]
  },
  {
   "cell_type": "code",
   "execution_count": null,
   "metadata": {
    "collapsed": true
   },
   "outputs": [],
   "source": [
    "from tensorflow.contrib.layers import flatten\n",
    "import math\n",
    "\n",
    "def LeNet(x):    \n",
    "    # Arguments used for tf.truncated_normal, randomly defines variables for the weights and biases for each layer\n",
    "    mu = 0\n",
    "    sigma = 0.1\n",
    "    \n",
    "    strides_conv = [1, 1, 1, 1]\n",
    "    ksize_pool   = [1, 2, 2, 1]\n",
    "    strides_pool  = [1, 2, 2, 1]\n",
    "    \n",
    "    # Layer 1: Convolutional. Input = 32x32x1. Output = 14x14x46.\n",
    "    with tf.variable_scope(\"conv1\"):\n",
    "        conv1 = convLayer(x, (5, 5, 1, 46), strides_conv , 0.5, ksize_pool, strides_pool, padding_conv='VALID',\n",
    "                          sigma=math.sqrt(2.0/(5.0*5.0*46.0)))\n",
    "    \n",
    "    # Layer 2: Convolutional. Input = 14x14x46. Output = 5x5x92.\n",
    "    with tf.variable_scope(\"conv2\"):\n",
    "        conv2 = convLayer(conv1, (5, 5, 46, 92), strides_conv, 0.5, ksize_pool, strides_pool, padding_conv='VALID',\n",
    "                          sigma=math.sqrt(2.0/(5.0*5.0*92.0))) \n",
    "    \n",
    "    # Layer 3: Convolutional. Input = 5x5x92. Output = 4x4x184.\n",
    "    with tf.variable_scope(\"conv3\"):\n",
    "        conv3 = convLayer(conv2, (3, 3, 92, 184), strides_conv, 0.5, ksize_pool, [1, 1, 1, 1], padding_conv='SAME',\n",
    "                          sigma=math.sqrt(2.0/(5.0*5.0*184.0))) \n",
    "    \n",
    "    # Flatten. Input = 4x4x184. Output = 2944.\n",
    "    fc0   = flatten(conv3)\n",
    "    \n",
    "    neuron_fc1 = 4*4*184\n",
    "    \n",
    "    # Layer 4: Fully Connected. Input = 2944. Output = 1000.\n",
    "    fc1_W = tf.Variable(tf.truncated_normal(shape=(neuron_fc1, 1000), mean = mu, stddev = sigma))\n",
    "    fc1_b = tf.Variable(tf.zeros(1000))\n",
    "    fc1   = tf.matmul(fc0, fc1_W) + fc1_b\n",
    "    \n",
    "    # Layer 4: Activation.\n",
    "    fc1    = tf.nn.relu(fc1)\n",
    "    # Layer 4: Dropout.\n",
    "    fc1 = tf.cond(with_drop,\n",
    "                 lambda: tf.nn.dropout(fc1,0.5),\n",
    "                 lambda: fc1)\n",
    "\n",
    "    # Layer 5: Fully Connected. Input = 1000 Output = 43.\n",
    "    fc2_W  = tf.Variable(tf.truncated_normal(shape=(1000, n_classes), mean = mu, stddev = sigma))\n",
    "    fc2_b  = tf.Variable(tf.zeros(n_classes))\n",
    "    logits = tf.add(tf.matmul(fc1, fc2_W), fc2_b, name='logits')\n",
    "    \n",
    "    return logits"
   ]
  },
  {
   "cell_type": "code",
   "execution_count": null,
   "metadata": {
    "collapsed": true
   },
   "outputs": [],
   "source": [
    "tf.set_random_seed(542)\n",
    "x = tf.placeholder(tf.float32, (None, 32, 32, 1), name='x')\n",
    "y = tf.placeholder(tf.int32, (None), name='y')\n",
    "with_drop = tf.placeholder(tf.bool, name='with_drop')\n",
    "one_hot_y = tf.one_hot(y, n_classes)\n",
    "mean = tf.Variable(train_mean)\n",
    "std = tf.Variable(train_std)"
   ]
  },
  {
   "cell_type": "markdown",
   "metadata": {},
   "source": [
    "### Train, Validate and Test the Model"
   ]
  },
  {
   "cell_type": "markdown",
   "metadata": {},
   "source": [
    "A validation set can be used to assess how well the model is performing. A low accuracy on the training and validation\n",
    "sets imply underfitting. A high accuracy on the training set but low accuracy on the validation set implies overfitting."
   ]
  },
  {
   "cell_type": "code",
   "execution_count": null,
   "metadata": {
    "collapsed": true
   },
   "outputs": [],
   "source": [
    "### Train your model here.\n",
    "### Calculate and report the accuracy on the training and validation set.\n",
    "### Once a final model architecture is selected, \n",
    "### the accuracy on the test set should be calculated and reported as well.\n",
    "### Feel free to use as many code cells as needed.\n",
    "rate = 0.0001\n",
    "\n",
    "normalization = tf.div(tf.subtract(x, mean), std, name='normalization')\n",
    "logits = LeNet(x)\n",
    "cross_entropy = tf.nn.softmax_cross_entropy_with_logits(labels=one_hot_y, logits=logits)\n",
    "loss_operation = tf.reduce_mean(cross_entropy)\n",
    "optimizer = tf.train.AdamOptimizer(learning_rate = rate)\n",
    "training_operation = optimizer.minimize(loss_operation)\n",
    "\n",
    "correct_prediction = tf.equal(tf.argmax(logits, 1), tf.argmax(one_hot_y, 1))\n",
    "accuracy_operation = tf.reduce_mean(tf.cast(correct_prediction, tf.float32), name='accuracy_operation')"
   ]
  },
  {
   "cell_type": "code",
   "execution_count": null,
   "metadata": {
    "collapsed": true
   },
   "outputs": [],
   "source": [
    "def evaluate(X_data, y_data, drop=False):\n",
    "    num_examples = len(X_data)\n",
    "    total_accuracy = 0\n",
    "    total_loss = 0\n",
    "    sess = tf.get_default_session()\n",
    "    for offset in range(0, num_examples, BATCH_SIZE):\n",
    "        batch_x, batch_y = X_data[offset:offset+BATCH_SIZE], y_data[offset:offset+BATCH_SIZE]\n",
    "        loss, accuracy = sess.run([loss_operation, accuracy_operation], feed_dict={x: batch_x, y: batch_y, with_drop: drop})\n",
    "        \n",
    "        total_loss += (loss * len(batch_x))\n",
    "        total_accuracy += (accuracy * len(batch_x))\n",
    "        \n",
    "    return total_loss / num_examples, total_accuracy / num_examples"
   ]
  },
  {
   "cell_type": "code",
   "execution_count": null,
   "metadata": {},
   "outputs": [],
   "source": [
    "%%time\n",
    "train_loss_history = []\n",
    "valid_loss_history = []\n",
    "train_accuracy_history = []\n",
    "valid_accuracy_history = []\n",
    "\n",
    "saver = tf.train.Saver()\n",
    "\n",
    "with tf.Session() as sess:\n",
    "    sess.run(tf.global_variables_initializer())\n",
    "    num_examples = len(X_train_norm)\n",
    "    \n",
    "    print(\"Training...\")\n",
    "    print()\n",
    "    X_train_norm = sess.run(normalization, feed_dict={x: X_train_norm})\n",
    "    X_valid_norm = sess.run(normalization, feed_dict={x: X_valid_norm})\n",
    "    for i in range(EPOCHS):\n",
    "        X_train_norm, y_train_norm = shuffle(X_train_norm, y_train_norm)\n",
    "        for offset in range(0, num_examples, BATCH_SIZE):\n",
    "            end = offset + BATCH_SIZE\n",
    "            batch_x, batch_y = X_train_norm[offset:end], y_train_norm[offset:end]\n",
    "            sess.run(training_operation, feed_dict={x: batch_x, y: batch_y, with_drop: True})\n",
    "            \n",
    "        train_loss, train_accuracy = evaluate(X_train_norm, y_train_norm)\n",
    "        train_loss_history.append(train_loss)\n",
    "        train_accuracy_history.append(train_accuracy)\n",
    "        validation_loss, validation_accuracy = evaluate(X_valid_norm, y_valid)\n",
    "        valid_loss_history.append(validation_loss)\n",
    "        valid_accuracy_history.append(validation_accuracy)\n",
    "        \n",
    "        print(\"EPOCH {} ...\".format(i+1))\n",
    "        print(\"Train Accuracy = {:.3f} --- Validation Accuracy = {:.3f}\".format(train_accuracy, validation_accuracy))\n",
    "        print()\n",
    "        \n",
    "    saver.save(sess, model_name)\n",
    "    print(\"Model saved\")\n",
    "    print(\"Train Loss = {:.3f} --- Validation Loss = {:.3f}\".format(train_loss_history[EPOCHS-1], \n",
    "                                                                    valid_loss_history[EPOCHS-1]))\n",
    "    \n",
    "loss_plot = plt.subplot(2,1,1)\n",
    "loss_plot.set_title('Loss')\n",
    "loss_plot.plot(train_loss_history, 'r', label='Training Loss')\n",
    "loss_plot.plot(valid_loss_history, 'b', label='Validation Loss')\n",
    "loss_plot.set_xlim([0, EPOCHS])\n",
    "loss_plot.set_ylim([0, 4.0])\n",
    "loss_plot.legend(loc=1)\n",
    "accuracy_plot = plt.subplot(2,1,2)\n",
    "accuracy_plot.set_title('Accuracy')\n",
    "accuracy_plot.plot(train_accuracy_history, 'r', label='Training Accuracy')\n",
    "accuracy_plot.plot(valid_accuracy_history, 'b', label='Validation Accuracy')\n",
    "accuracy_plot.set_xlim([0, EPOCHS])\n",
    "accuracy_plot.set_ylim([0.5, 1.1])\n",
    "accuracy_plot.legend(loc=4)\n",
    "plt.tight_layout()\n",
    "plt.show()"
   ]
  },
  {
   "cell_type": "code",
   "execution_count": null,
   "metadata": {},
   "outputs": [],
   "source": [
    "X_test_gray_clahe = [gray_clahe(x) for x in X_test]\n",
    "X_test_norm = np.array(X_test_gray_clahe, dtype=np.float32).reshape(len(X_test_gray_clahe), 32, 32, 1)\n",
    "# X_test_norm = np.array(X_test, dtype=np.float32)\n",
    "with tf.Session() as sess:\n",
    "\n",
    "    saver = tf.train.import_meta_graph('{}.meta'.format(model_name))\n",
    "    saver.restore(sess, tf.train.latest_checkpoint('./models/'))\n",
    "    \n",
    "    graph = tf.get_default_graph()\n",
    "    x = graph.get_tensor_by_name(\"x:0\")\n",
    "    y = graph.get_tensor_by_name(\"y:0\")\n",
    "    with_drop = graph.get_tensor_by_name('with_drop:0')\n",
    "    normalization = graph.get_tensor_by_name('normalization:0')\n",
    "    accuracy_operation = graph.get_tensor_by_name('accuracy_operation:0')\n",
    "    \n",
    "    X_test_norm = sess.run(normalization, feed_dict={x: X_test_norm})\n",
    "    test_loss, test_accuracy = evaluate(X_test_norm, y_test)\n",
    "    \n",
    "    print(\"Test Accuracy = {:.3f}\".format(test_accuracy))\n",
    "    print(\"Test Loss = {:.3f}\".format(test_loss))"
   ]
  },
  {
   "cell_type": "markdown",
   "metadata": {},
   "source": [
    "---\n",
    "\n",
    "## Step 3: Test a Model on New Images\n",
    "\n",
    "To give yourself more insight into how your model is working, download at least five pictures of German traffic signs from the web and use your model to predict the traffic sign type.\n",
    "\n",
    "You may find `signnames.csv` useful as it contains mappings from the class id (integer) to the actual sign name."
   ]
  },
  {
   "cell_type": "markdown",
   "metadata": {},
   "source": [
    "### Load and Output the Images"
   ]
  },
  {
   "cell_type": "code",
   "execution_count": null,
   "metadata": {},
   "outputs": [],
   "source": [
    "import cv2\n",
    "import glob\n",
    "import numpy as np\n",
    "import pandas as pd\n",
    "import random\n",
    "import matplotlib.pyplot as plt\n",
    "%matplotlib inline\n",
    "\n",
    "plt.figure(figsize=(20,15))\n",
    "imgpaths_sample = glob.glob('./new_signs/*.jpg')\n",
    "raw_imgs = []\n",
    "new_img_labels = []\n",
    "scaled_imgs = []\n",
    "count = 1\n",
    "for imgpath in imgpaths_sample:\n",
    "    label = imgpath.split('/')[2].split('.')[0]\n",
    "    new_img_labels.append(label)\n",
    "    \n",
    "    img_bgr = cv2.imread(imgpath)\n",
    "    img = cv2.cvtColor(img_bgr, cv2.COLOR_BGR2RGB)\n",
    "    gray_img = gray_clahe(img)\n",
    "    scaled_img = cv2.resize(gray_img, (32,32))\n",
    "    raw_imgs.append(img)\n",
    "    scaled_imgs.append(scaled_img)\n",
    "    \n",
    "    # plot RGB original image\n",
    "    plt.subplot(4,5, count)\n",
    "    count += 1\n",
    "    plt.title(all_labels[int(label),1], fontsize=18)\n",
    "    plt.tight_layout()\n",
    "    plt.imshow(img)\n",
    "    \n",
    "new_signs = np.array(scaled_imgs, dtype=np.float32).reshape(len(scaled_imgs), 32, 32, 1)"
   ]
  },
  {
   "cell_type": "markdown",
   "metadata": {},
   "source": [
    "### Predict the Sign Type for Each Image"
   ]
  },
  {
   "cell_type": "code",
   "execution_count": null,
   "metadata": {},
   "outputs": [],
   "source": [
    "with tf.Session() as sess:\n",
    "\n",
    "    saver = tf.train.import_meta_graph('{}.meta'.format(model_name))\n",
    "    saver.restore(sess, tf.train.latest_checkpoint('./models/'))\n",
    "    \n",
    "    graph = tf.get_default_graph()\n",
    "    x = graph.get_tensor_by_name(\"x:0\")\n",
    "    with_drop = graph.get_tensor_by_name('with_drop:0')\n",
    "    normalization = graph.get_tensor_by_name('normalization:0')\n",
    "    logits = graph.get_tensor_by_name('logits:0')\n",
    "    \n",
    "    new_signs_norm = sess.run(normalization, feed_dict={x: new_signs})\n",
    "    \n",
    "    predictions = sess.run(tf.argmax(logits, 1), feed_dict={x: new_signs_norm, with_drop:False})\n",
    "    \n",
    "    for indx in range(len(new_signs)):\n",
    "        new_sign , new_sing_label = new_signs[indx], new_img_labels[indx]\n",
    "        prediction = predictions[indx]\n",
    "        print('Predict: {:<50} --- Ground True: {}'.format(all_labels[int(prediction),1], all_labels[int(new_sing_label),1]))"
   ]
  },
  {
   "cell_type": "markdown",
   "metadata": {},
   "source": [
    "### Analyze Performance"
   ]
  },
  {
   "cell_type": "code",
   "execution_count": null,
   "metadata": {},
   "outputs": [],
   "source": [
    "### Calculate the accuracy for these 5 new images. \n",
    "### For example, if the model predicted 1 out of 5 signs correctly, it's 20% accurate on these new images.\n",
    "with tf.Session() as sess:\n",
    "    saver = tf.train.import_meta_graph('{}.meta'.format(model_name))\n",
    "    saver.restore(sess, tf.train.latest_checkpoint('./models/'))\n",
    "\n",
    "    graph = tf.get_default_graph()\n",
    "    x = graph.get_tensor_by_name(\"x:0\")\n",
    "    y = graph.get_tensor_by_name(\"y:0\")\n",
    "    with_drop = graph.get_tensor_by_name('with_drop:0')\n",
    "    normalization = graph.get_tensor_by_name('normalization:0')\n",
    "    accuracy_operation = graph.get_tensor_by_name('accuracy_operation:0')\n",
    "    \n",
    "    new_signs_norm = sess.run(normalization, feed_dict={x: new_signs})\n",
    "    num_examples = len(new_signs_norm)\n",
    "    \n",
    "    new_signs_accuracy = sess.run(accuracy_operation,feed_dict={x:new_signs_norm, y:new_img_labels, with_drop:False})\n",
    "    \n",
    "    print(\"Test Accuracy = {:.1f}%\".format(new_signs_accuracy * 100))"
   ]
  },
  {
   "cell_type": "markdown",
   "metadata": {},
   "source": [
    "### Output Top 5 Softmax Probabilities For Each Image Found on the Web"
   ]
  },
  {
   "cell_type": "markdown",
   "metadata": {},
   "source": [
    "For each of the new images, print out the model's softmax probabilities to show the **certainty** of the model's predictions (limit the output to the top 5 probabilities for each image). [`tf.nn.top_k`](https://www.tensorflow.org/versions/r0.12/api_docs/python/nn.html#top_k) could prove helpful here. \n",
    "\n",
    "The example below demonstrates how tf.nn.top_k can be used to find the top k predictions for each image.\n",
    "\n",
    "`tf.nn.top_k` will return the values and indices (class ids) of the top k predictions. So if k=3, for each sign, it'll return the 3 largest probabilities (out of a possible 43) and the correspoding class ids.\n",
    "\n",
    "Take this numpy array as an example. The values in the array represent predictions. The array contains softmax probabilities for five candidate images with six possible classes. `tf.nn.top_k` is used to choose the three classes with the highest probability:\n",
    "\n",
    "```\n",
    "# (5, 6) array\n",
    "a = np.array([[ 0.24879643,  0.07032244,  0.12641572,  0.34763842,  0.07893497,\n",
    "         0.12789202],\n",
    "       [ 0.28086119,  0.27569815,  0.08594638,  0.0178669 ,  0.18063401,\n",
    "         0.15899337],\n",
    "       [ 0.26076848,  0.23664738,  0.08020603,  0.07001922,  0.1134371 ,\n",
    "         0.23892179],\n",
    "       [ 0.11943333,  0.29198961,  0.02605103,  0.26234032,  0.1351348 ,\n",
    "         0.16505091],\n",
    "       [ 0.09561176,  0.34396535,  0.0643941 ,  0.16240774,  0.24206137,\n",
    "         0.09155967]])\n",
    "```\n",
    "\n",
    "Running it through `sess.run(tf.nn.top_k(tf.constant(a), k=3))` produces:\n",
    "\n",
    "```\n",
    "TopKV2(values=array([[ 0.34763842,  0.24879643,  0.12789202],\n",
    "       [ 0.28086119,  0.27569815,  0.18063401],\n",
    "       [ 0.26076848,  0.23892179,  0.23664738],\n",
    "       [ 0.29198961,  0.26234032,  0.16505091],\n",
    "       [ 0.34396535,  0.24206137,  0.16240774]]), indices=array([[3, 0, 5],\n",
    "       [0, 1, 4],\n",
    "       [0, 5, 1],\n",
    "       [1, 3, 5],\n",
    "       [1, 4, 3]], dtype=int32))\n",
    "```\n",
    "\n",
    "Looking just at the first row we get `[ 0.34763842,  0.24879643,  0.12789202]`, you can confirm these are the 3 largest probabilities in `a`. You'll also notice `[3, 0, 5]` are the corresponding indices."
   ]
  },
  {
   "cell_type": "code",
   "execution_count": null,
   "metadata": {
    "collapsed": true
   },
   "outputs": [],
   "source": [
    "import matplotlib.image as mpimg\n",
    "\n",
    "signs_list = []\n",
    "for img_num in range(num_labels):\n",
    "    img = mpimg.imread('./signs/{}.png'.format(img_num))\n",
    "    signs_list.append(img)"
   ]
  },
  {
   "cell_type": "code",
   "execution_count": null,
   "metadata": {
    "collapsed": true
   },
   "outputs": [],
   "source": [
    "import matplotlib.image as mpimg\n",
    "%matplotlib inline\n",
    "\n",
    "def plot_sign(sign, values, index, nom):\n",
    "    fig = plt.figure(nom, figsize=(15,4))\n",
    "    \n",
    "    ax0 = fig.add_subplot(1, 3, 1)\n",
    "    ax0.imshow(sign)\n",
    "    ax0.axis('off')\n",
    "    \n",
    "    x = np.arange(len(values))\n",
    "    ax1 = fig.add_subplot(1, 3, 2)\n",
    "    ax1.barh(x, values)\n",
    "    y_labels = ['{:.1f}%'.format(x * 100) for x in values]\n",
    "    ax1.set_yticks(x)\n",
    "    ax1.set_yticklabels(y_labels, fontsize=13)\n",
    "    \n",
    "    ax2 = fig.add_subplot(5, 5, 4)\n",
    "    ax2.imshow(signs_list[index[4]])\n",
    "    ax2.axis('off')\n",
    "    ax3 = fig.add_subplot(5, 5, 9)\n",
    "    ax3.imshow(signs_list[index[3]])\n",
    "    ax3.axis('off')\n",
    "    ax4 = fig.add_subplot(5, 5, 14)\n",
    "    ax4.imshow(signs_list[index[2]])\n",
    "    ax4.axis('off')\n",
    "    ax5 = fig.add_subplot(5, 5, 19)\n",
    "    ax5.imshow(signs_list[index[1]])\n",
    "    ax5.axis('off')\n",
    "    ax6 = fig.add_subplot(5, 5, 24)\n",
    "    ax6.imshow(signs_list[index[0]])\n",
    "    ax6.axis('off')"
   ]
  },
  {
   "cell_type": "code",
   "execution_count": null,
   "metadata": {
    "collapsed": true
   },
   "outputs": [],
   "source": [
    "def plot_top_five(top_five):\n",
    "    top_five_values = top_five.values\n",
    "    top_five_indices = top_five.indices\n",
    "    for indx in range(len(raw_imgs)):\n",
    "        values = top_five_values[indx]\n",
    "        indices = top_five_indices[indx]\n",
    "        plot_sign(raw_imgs[indx], values, indices, indx)\n",
    "        plt.show()\n",
    "        print()"
   ]
  },
  {
   "cell_type": "code",
   "execution_count": null,
   "metadata": {},
   "outputs": [],
   "source": [
    "### Print out the top five softmax probabilities for the predictions on the German traffic sign images found on the web. \n",
    "### Feel free to use as many code cells as needed.\n",
    "with tf.Session() as sess:\n",
    "    saver = tf.train.import_meta_graph('{}.meta'.format(model_name))\n",
    "    saver.restore(sess, tf.train.latest_checkpoint('./models/'))\n",
    "    \n",
    "    graph = tf.get_default_graph()\n",
    "    x = graph.get_tensor_by_name(\"x:0\")\n",
    "    with_drop = graph.get_tensor_by_name('with_drop:0')\n",
    "    normalization = graph.get_tensor_by_name('normalization:0')\n",
    "    logits = graph.get_tensor_by_name('logits:0')\n",
    "    \n",
    "    new_signs_norm = sess.run(normalization, feed_dict={x: new_signs})\n",
    "    top_five = sess.run(tf.nn.top_k(tf.nn.softmax(logits), k=5), feed_dict={x: new_signs_norm, with_drop: False})\n",
    "    \n",
    "    plot_top_five(top_five)"
   ]
  },
  {
   "cell_type": "markdown",
   "metadata": {},
   "source": [
    "### Project Writeup\n",
    "\n",
    "Once you have completed the code implementation, document your results in a project writeup using this [template](https://github.com/udacity/CarND-Traffic-Sign-Classifier-Project/blob/master/writeup_template.md) as a guide. The writeup can be in a markdown or pdf file. "
   ]
  },
  {
   "cell_type": "markdown",
   "metadata": {},
   "source": [
    "> **Note**: Once you have completed all of the code implementations and successfully answered each question above, you may finalize your work by exporting the iPython Notebook as an HTML document. You can do this by using the menu above and navigating to  \\n\",\n",
    "    \"**File -> Download as -> HTML (.html)**. Include the finished document along with this notebook as your submission."
   ]
  },
  {
   "cell_type": "markdown",
   "metadata": {},
   "source": [
    "---\n",
    "\n",
    "## Step 4 (Optional): Visualize the Neural Network's State with Test Images\n",
    "\n",
    " This Section is not required to complete but acts as an additional excersise for understaning the output of a neural network's weights. While neural networks can be a great learning device they are often referred to as a black box. We can understand what the weights of a neural network look like better by plotting their feature maps. After successfully training your neural network you can see what it's feature maps look like by plotting the output of the network's weight layers in response to a test stimuli image. From these plotted feature maps, it's possible to see what characteristics of an image the network finds interesting. For a sign, maybe the inner network feature maps react with high activation to the sign's boundary outline or to the contrast in the sign's painted symbol.\n",
    "\n",
    " Provided for you below is the function code that allows you to get the visualization output of any tensorflow weight layer you want. The inputs to the function should be a stimuli image, one used during training or a new one you provided, and then the tensorflow variable name that represents the layer's state during the training process, for instance if you wanted to see what the [LeNet lab's](https://classroom.udacity.com/nanodegrees/nd013/parts/fbf77062-5703-404e-b60c-95b78b2f3f9e/modules/6df7ae49-c61c-4bb2-a23e-6527e69209ec/lessons/601ae704-1035-4287-8b11-e2c2716217ad/concepts/d4aca031-508f-4e0b-b493-e7b706120f81) feature maps looked like for it's second convolutional layer you could enter conv2 as the tf_activation variable.\n",
    "\n",
    "For an example of what feature map outputs look like, check out NVIDIA's results in their paper [End-to-End Deep Learning for Self-Driving Cars](https://devblogs.nvidia.com/parallelforall/deep-learning-self-driving-cars/) in the section Visualization of internal CNN State. NVIDIA was able to show that their network's inner weights had high activations to road boundary lines by comparing feature maps from an image with a clear path to one without. Try experimenting with a similar test to show that your trained network's weights are looking for interesting features, whether it's looking at differences in feature maps from images with or without a sign, or even what feature maps look like in a trained network vs a completely untrained one on the same sign image.\n",
    "\n",
    "<figure>\n",
    " <img src=\"visualize_cnn.png\" width=\"380\" alt=\"Combined Image\" />\n",
    " <figcaption>\n",
    " <p></p> \n",
    " <p style=\"text-align: center;\"> Your output should look something like this (above)</p> \n",
    " </figcaption>\n",
    "</figure>\n",
    " <p></p> \n"
   ]
  },
  {
   "cell_type": "code",
   "execution_count": null,
   "metadata": {
    "collapsed": true
   },
   "outputs": [],
   "source": [
    "### Visualize your network's feature maps here.\n",
    "### Feel free to use as many code cells as needed.\n",
    "\n",
    "# image_input: the test image being fed into the network to produce the feature maps\n",
    "# tf_activation: should be a tf variable name used during your training procedure that represents the calculated state of a specific weight layer\n",
    "# activation_min/max: can be used to view the activation contrast in more detail, by default matplot sets min and max to the actual min and max values of the output\n",
    "# plt_num: used to plot out multiple different weight feature map sets on the same block, just extend the plt number for each new feature map entry\n",
    "\n",
    "def outputFeatureMap(image_input, tf_activation, activation_min=-1, activation_max=-1 ,plt_num=1):\n",
    "    # Here make sure to preprocess your image_input in a way your network expects\n",
    "    # with size, normalization, ect if needed\n",
    "    # image_input =\n",
    "    # Note: x should be the same name as your network's tensorflow data placeholder variable\n",
    "    # If you get an error tf_activation is not defined it may be having trouble accessing the variable from inside a function\n",
    "    activation = tf_activation.eval(session=sess,feed_dict={x : image_input, with_drop: True})\n",
    "    featuremaps = activation.shape[3]\n",
    "    plt.figure(plt_num, figsize=(15,15))\n",
    "    for featuremap in range(featuremaps):\n",
    "        plt.subplot(8, 6, featuremap+1) # sets the number of feature maps to show on each row and column\n",
    "        plt.title('FeatureMap ' + str(featuremap)) # displays the feature map number\n",
    "        plt.tight_layout()\n",
    "        if activation_min != -1 & activation_max != -1:\n",
    "            plt.imshow(activation[0,:,:, featuremap], interpolation=\"nearest\", vmin =activation_min, vmax=activation_max, cmap=\"gray\")\n",
    "        elif activation_max != -1:\n",
    "            plt.imshow(activation[0,:,:, featuremap], interpolation=\"nearest\", vmax=activation_max, cmap=\"gray\")\n",
    "        elif activation_min !=-1:\n",
    "            plt.imshow(activation[0,:,:, featuremap], interpolation=\"nearest\", vmin=activation_min, cmap=\"gray\")\n",
    "        else:\n",
    "            plt.imshow(activation[0,:,:, featuremap], interpolation=\"nearest\", cmap=\"gray\")"
   ]
  },
  {
   "cell_type": "code",
   "execution_count": null,
   "metadata": {},
   "outputs": [],
   "source": [
    "import tensorflow as tf\n",
    "import random\n",
    "\n",
    "# new_sign_sample = new_signs[random.randint(0, len(new_signs)-1)].reshape(1, 32, 32, 1)\n",
    "new_sign_sample = new_signs[1].reshape(1, 32, 32, 1)\n",
    "with tf.Session() as sess:\n",
    "    saver = tf.train.import_meta_graph('{}.meta'.format(model_name))\n",
    "    saver.restore(sess, tf.train.latest_checkpoint('./models/'))\n",
    "    \n",
    "    graph = tf.get_default_graph()\n",
    "    x = graph.get_tensor_by_name(\"x:0\")\n",
    "    with_drop = graph.get_tensor_by_name('with_drop:0')\n",
    "    normalization = graph.get_tensor_by_name('normalization:0')\n",
    "    \n",
    "    conv1 =  graph.get_tensor_by_name(\"conv1/conv:0\")\n",
    "\n",
    "    new_sign_norm = sess.run(normalization, feed_dict={x: new_sign_sample})\n",
    "    outputFeatureMap(new_sign_norm, conv1)"
   ]
  },
  {
   "cell_type": "code",
   "execution_count": null,
   "metadata": {
    "collapsed": true
   },
   "outputs": [],
   "source": []
  }
 ],
 "metadata": {
  "anaconda-cloud": {},
  "kernelspec": {
   "display_name": "Python 3",
   "language": "python",
   "name": "python3"
  },
  "language_info": {
   "codemirror_mode": {
    "name": "ipython",
    "version": 3
   },
   "file_extension": ".py",
   "mimetype": "text/x-python",
   "name": "python",
   "nbconvert_exporter": "python",
   "pygments_lexer": "ipython3",
   "version": "3.5.2"
  },
  "widgets": {
   "state": {},
   "version": "1.1.2"
  }
 },
 "nbformat": 4,
 "nbformat_minor": 1
}
